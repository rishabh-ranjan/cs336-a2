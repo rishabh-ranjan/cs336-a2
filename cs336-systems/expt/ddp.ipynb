{
 "cells": [
  {
   "cell_type": "code",
   "execution_count": 26,
   "id": "d6190731-8d15-447c-bfaa-b9fa9519bf1a",
   "metadata": {
    "execution": {
     "iopub.execute_input": "2024-04-29T03:21:47.978571Z",
     "iopub.status.busy": "2024-04-29T03:21:47.978149Z",
     "iopub.status.idle": "2024-04-29T03:21:48.003459Z",
     "shell.execute_reply": "2024-04-29T03:21:48.002595Z",
     "shell.execute_reply.started": "2024-04-29T03:21:47.978535Z"
    }
   },
   "outputs": [],
   "source": [
    "import torch\n",
    "\n",
    "import expt"
   ]
  },
  {
   "cell_type": "code",
   "execution_count": 19,
   "id": "b4de1718-19dc-462f-9de9-502ea4f3f5c1",
   "metadata": {
    "execution": {
     "iopub.execute_input": "2024-04-29T03:20:04.072804Z",
     "iopub.status.busy": "2024-04-29T03:20:04.071847Z",
     "iopub.status.idle": "2024-04-29T03:20:04.111203Z",
     "shell.execute_reply": "2024-04-29T03:20:04.110159Z",
     "shell.execute_reply.started": "2024-04-29T03:20:04.072761Z"
    }
   },
   "outputs": [
    {
     "data": {
      "application/vnd.jupyter.widget-view+json": {
       "model_id": "0165f88089a249278ad70359595198cf",
       "version_major": 2,
       "version_minor": 0
      },
      "text/plain": [
       "  0%|          | 0/3 [00:00<?, ?it/s]"
      ]
     },
     "metadata": {},
     "output_type": "display_data"
    }
   ],
   "source": [
    "runs_dir = \"/dfs/scratch1/ranjanr/runs/cs336/2024-04-28\"\n",
    "df = expt.scan(runs_dir)"
   ]
  },
  {
   "cell_type": "code",
   "execution_count": 8,
   "id": "b891a436-1ea1-4854-b386-87f89e25d2cb",
   "metadata": {
    "execution": {
     "iopub.execute_input": "2024-04-29T03:15:20.953970Z",
     "iopub.status.busy": "2024-04-29T03:15:20.953191Z",
     "iopub.status.idle": "2024-04-29T03:15:20.985904Z",
     "shell.execute_reply": "2024-04-29T03:15:20.985087Z",
     "shell.execute_reply.started": "2024-04-29T03:15:20.953927Z"
    }
   },
   "outputs": [
    {
     "data": {
      "text/html": [
       "<div>\n",
       "<style scoped>\n",
       "    .dataframe tbody tr th:only-of-type {\n",
       "        vertical-align: middle;\n",
       "    }\n",
       "\n",
       "    .dataframe tbody tr th {\n",
       "        vertical-align: top;\n",
       "    }\n",
       "\n",
       "    .dataframe thead th {\n",
       "        text-align: right;\n",
       "    }\n",
       "</style>\n",
       "<table border=\"1\" class=\"dataframe\">\n",
       "  <thead>\n",
       "    <tr style=\"text-align: right;\">\n",
       "      <th></th>\n",
       "      <th>runs_dir</th>\n",
       "      <th>dev</th>\n",
       "      <th>lm_size</th>\n",
       "      <th>vocab_size</th>\n",
       "      <th>context_length</th>\n",
       "      <th>d_model</th>\n",
       "      <th>d_ff</th>\n",
       "      <th>num_layers</th>\n",
       "      <th>num_heads</th>\n",
       "      <th>attn_pdrop</th>\n",
       "      <th>residual_pdrop</th>\n",
       "      <th>batch_size</th>\n",
       "      <th>num_train_steps</th>\n",
       "      <th>backend</th>\n",
       "      <th>device</th>\n",
       "      <th>ddp</th>\n",
       "      <th>rank</th>\n",
       "      <th>local_rank</th>\n",
       "      <th>world_size</th>\n",
       "      <th>done</th>\n",
       "    </tr>\n",
       "  </thead>\n",
       "  <tbody>\n",
       "    <tr>\n",
       "      <th>1714360289810038297</th>\n",
       "      <td>/dfs/scratch1/ranjanr/runs/cs336/2024-04-28</td>\n",
       "      <td>0</td>\n",
       "      <td>small</td>\n",
       "      <td>10000</td>\n",
       "      <td>128</td>\n",
       "      <td>None</td>\n",
       "      <td>None</td>\n",
       "      <td>None</td>\n",
       "      <td>None</td>\n",
       "      <td>0.0</td>\n",
       "      <td>0.0</td>\n",
       "      <td>16</td>\n",
       "      <td>10</td>\n",
       "      <td>nccl</td>\n",
       "      <td>cuda</td>\n",
       "      <td>1</td>\n",
       "      <td>0</td>\n",
       "      <td>0</td>\n",
       "      <td>2</td>\n",
       "      <td>True</td>\n",
       "    </tr>\n",
       "    <tr>\n",
       "      <th>1714360289859295002</th>\n",
       "      <td>/dfs/scratch1/ranjanr/runs/cs336/2024-04-28</td>\n",
       "      <td>0</td>\n",
       "      <td>small</td>\n",
       "      <td>10000</td>\n",
       "      <td>128</td>\n",
       "      <td>None</td>\n",
       "      <td>None</td>\n",
       "      <td>None</td>\n",
       "      <td>None</td>\n",
       "      <td>0.0</td>\n",
       "      <td>0.0</td>\n",
       "      <td>16</td>\n",
       "      <td>10</td>\n",
       "      <td>nccl</td>\n",
       "      <td>cuda</td>\n",
       "      <td>1</td>\n",
       "      <td>1</td>\n",
       "      <td>1</td>\n",
       "      <td>2</td>\n",
       "      <td>True</td>\n",
       "    </tr>\n",
       "    <tr>\n",
       "      <th>1714360460658588621</th>\n",
       "      <td>/dfs/scratch1/ranjanr/runs/cs336/2024-04-28</td>\n",
       "      <td>0</td>\n",
       "      <td>small</td>\n",
       "      <td>10000</td>\n",
       "      <td>128</td>\n",
       "      <td>None</td>\n",
       "      <td>None</td>\n",
       "      <td>None</td>\n",
       "      <td>None</td>\n",
       "      <td>0.0</td>\n",
       "      <td>0.0</td>\n",
       "      <td>16</td>\n",
       "      <td>10</td>\n",
       "      <td>nccl</td>\n",
       "      <td>cuda</td>\n",
       "      <td>0</td>\n",
       "      <td>0</td>\n",
       "      <td>0</td>\n",
       "      <td>1</td>\n",
       "      <td>True</td>\n",
       "    </tr>\n",
       "  </tbody>\n",
       "</table>\n",
       "</div>"
      ],
      "text/plain": [
       "                                                        runs_dir dev lm_size  \\\n",
       "1714360289810038297  /dfs/scratch1/ranjanr/runs/cs336/2024-04-28   0   small   \n",
       "1714360289859295002  /dfs/scratch1/ranjanr/runs/cs336/2024-04-28   0   small   \n",
       "1714360460658588621  /dfs/scratch1/ranjanr/runs/cs336/2024-04-28   0   small   \n",
       "\n",
       "                    vocab_size context_length d_model  d_ff num_layers  \\\n",
       "1714360289810038297      10000            128    None  None       None   \n",
       "1714360289859295002      10000            128    None  None       None   \n",
       "1714360460658588621      10000            128    None  None       None   \n",
       "\n",
       "                    num_heads attn_pdrop residual_pdrop batch_size  \\\n",
       "1714360289810038297      None        0.0            0.0         16   \n",
       "1714360289859295002      None        0.0            0.0         16   \n",
       "1714360460658588621      None        0.0            0.0         16   \n",
       "\n",
       "                    num_train_steps backend device ddp rank local_rank  \\\n",
       "1714360289810038297              10    nccl   cuda   1    0          0   \n",
       "1714360289859295002              10    nccl   cuda   1    1          1   \n",
       "1714360460658588621              10    nccl   cuda   0    0          0   \n",
       "\n",
       "                    world_size  done  \n",
       "1714360289810038297          2  True  \n",
       "1714360289859295002          2  True  \n",
       "1714360460658588621          1  True  "
      ]
     },
     "execution_count": 8,
     "metadata": {},
     "output_type": "execute_result"
    }
   ],
   "source": [
    "df"
   ]
  },
  {
   "cell_type": "code",
   "execution_count": 14,
   "id": "669d7279-eb45-4d1a-99f2-eab16b034fbf",
   "metadata": {
    "execution": {
     "iopub.execute_input": "2024-04-29T03:16:59.886285Z",
     "iopub.status.busy": "2024-04-29T03:16:59.885868Z",
     "iopub.status.idle": "2024-04-29T03:16:59.917096Z",
     "shell.execute_reply": "2024-04-29T03:16:59.916014Z",
     "shell.execute_reply.started": "2024-04-29T03:16:59.886249Z"
    }
   },
   "outputs": [],
   "source": [
    "base_ts = df.query(\"ddp == 0\").iloc[-1].name"
   ]
  },
  {
   "cell_type": "code",
   "execution_count": 15,
   "id": "3a12eecb-befa-4ffb-a4e9-cade6240c8be",
   "metadata": {
    "execution": {
     "iopub.execute_input": "2024-04-29T03:17:41.516451Z",
     "iopub.status.busy": "2024-04-29T03:17:41.515977Z",
     "iopub.status.idle": "2024-04-29T03:17:41.547083Z",
     "shell.execute_reply": "2024-04-29T03:17:41.546265Z",
     "shell.execute_reply.started": "2024-04-29T03:17:41.516414Z"
    }
   },
   "outputs": [],
   "source": [
    "ddp_0_ts = df.query(\"ddp == 1 and rank == 0\").iloc[-1].name\n",
    "ddp_1_ts = df.query(\"ddp == 1 and rank == 1\").iloc[-1].name"
   ]
  },
  {
   "cell_type": "code",
   "execution_count": 20,
   "id": "bce6369e-2003-4f86-bccb-603eac77c3a0",
   "metadata": {
    "execution": {
     "iopub.execute_input": "2024-04-29T03:20:17.163528Z",
     "iopub.status.busy": "2024-04-29T03:20:17.163095Z",
     "iopub.status.idle": "2024-04-29T03:20:17.189461Z",
     "shell.execute_reply": "2024-04-29T03:20:17.188646Z",
     "shell.execute_reply.started": "2024-04-29T03:20:17.163492Z"
    }
   },
   "outputs": [],
   "source": [
    "base_store = expt.PathDict(f\"{runs_dir}/{base_ts}\")\n",
    "ddp_0_store = expt.PathDict(f\"{runs_dir}/{ddp_0_ts}\")\n",
    "ddp_1_store = expt.PathDict(f\"{runs_dir}/{ddp_1_ts}\")"
   ]
  },
  {
   "cell_type": "code",
   "execution_count": 30,
   "id": "8f4f57f1-52df-4fee-a1b8-cc23012cd36e",
   "metadata": {
    "execution": {
     "iopub.execute_input": "2024-04-29T03:22:38.894407Z",
     "iopub.status.busy": "2024-04-29T03:22:38.893568Z",
     "iopub.status.idle": "2024-04-29T03:22:39.358211Z",
     "shell.execute_reply": "2024-04-29T03:22:39.357479Z",
     "shell.execute_reply.started": "2024-04-29T03:22:38.894363Z"
    }
   },
   "outputs": [],
   "source": [
    "base_p = torch.cat([p.view(-1) for p in base_store[\"net\"].values()])"
   ]
  },
  {
   "cell_type": "code",
   "execution_count": 35,
   "id": "bdbabf94-1a11-484c-9d94-53c1f60c66ef",
   "metadata": {
    "execution": {
     "iopub.execute_input": "2024-04-29T03:23:51.709551Z",
     "iopub.status.busy": "2024-04-29T03:23:51.709108Z",
     "iopub.status.idle": "2024-04-29T03:23:52.093725Z",
     "shell.execute_reply": "2024-04-29T03:23:52.092961Z",
     "shell.execute_reply.started": "2024-04-29T03:23:51.709513Z"
    }
   },
   "outputs": [],
   "source": [
    "ddp_0_p = torch.cat([p.view(-1) for p in ddp_0_store[\"net\"].values()])\n",
    "ddp_1_p = torch.cat([p.view(-1) for p in ddp_1_store[\"net\"].values()])"
   ]
  },
  {
   "cell_type": "code",
   "execution_count": 36,
   "id": "e78a90bb-5fc8-4ff5-8f31-c17e7c352554",
   "metadata": {
    "execution": {
     "iopub.execute_input": "2024-04-29T03:23:52.486249Z",
     "iopub.status.busy": "2024-04-29T03:23:52.485372Z",
     "iopub.status.idle": "2024-04-29T03:23:52.877790Z",
     "shell.execute_reply": "2024-04-29T03:23:52.877215Z",
     "shell.execute_reply.started": "2024-04-29T03:23:52.486207Z"
    }
   },
   "outputs": [
    {
     "data": {
      "text/plain": [
       "True"
      ]
     },
     "execution_count": 36,
     "metadata": {},
     "output_type": "execute_result"
    }
   ],
   "source": [
    "torch.allclose(ddp_1_p, ddp_0_p)"
   ]
  },
  {
   "cell_type": "code",
   "execution_count": null,
   "id": "4b5e5620-d5c3-47b8-b47c-c19eca94909a",
   "metadata": {},
   "outputs": [],
   "source": []
  }
 ],
 "metadata": {
  "kernelspec": {
   "display_name": "Python [conda env:.micromamba-cs336]",
   "language": "python",
   "name": "conda-env-.micromamba-cs336-py"
  },
  "language_info": {
   "codemirror_mode": {
    "name": "ipython",
    "version": 3
   },
   "file_extension": ".py",
   "mimetype": "text/x-python",
   "name": "python",
   "nbconvert_exporter": "python",
   "pygments_lexer": "ipython3",
   "version": "3.10.14"
  }
 },
 "nbformat": 4,
 "nbformat_minor": 5
}
