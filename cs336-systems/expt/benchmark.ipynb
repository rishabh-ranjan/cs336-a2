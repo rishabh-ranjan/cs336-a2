{
 "cells": [
  {
   "cell_type": "code",
   "execution_count": 1,
   "id": "f6ec8e8c-bedf-4a05-981e-f7c22aaa008a",
   "metadata": {
    "execution": {
     "iopub.execute_input": "2024-04-21T03:58:24.258395Z",
     "iopub.status.busy": "2024-04-21T03:58:24.258143Z",
     "iopub.status.idle": "2024-04-21T03:58:24.274452Z",
     "shell.execute_reply": "2024-04-21T03:58:24.273960Z",
     "shell.execute_reply.started": "2024-04-21T03:58:24.258374Z"
    }
   },
   "outputs": [],
   "source": [
    "%load_ext autoreload\n",
    "%autoreload 2"
   ]
  },
  {
   "cell_type": "code",
   "execution_count": 17,
   "id": "9723af3f-157e-4d6c-84d7-c38e784ca9da",
   "metadata": {
    "execution": {
     "iopub.execute_input": "2024-04-21T04:32:06.803803Z",
     "iopub.status.busy": "2024-04-21T04:32:06.803544Z",
     "iopub.status.idle": "2024-04-21T04:32:07.225010Z",
     "shell.execute_reply": "2024-04-21T04:32:07.224382Z",
     "shell.execute_reply.started": "2024-04-21T04:32:06.803784Z"
    }
   },
   "outputs": [],
   "source": [
    "from types import SimpleNamespace\n",
    "\n",
    "import matplotlib.pyplot as plt\n",
    "import pandas as pd\n",
    "import seaborn as sns\n",
    "import torch\n",
    "\n",
    "import benchmark"
   ]
  },
  {
   "cell_type": "code",
   "execution_count": 5,
   "id": "a23e27ec-b1d1-4479-96dc-c8fafd677acb",
   "metadata": {
    "execution": {
     "iopub.execute_input": "2024-04-21T04:19:46.859793Z",
     "iopub.status.busy": "2024-04-21T04:19:46.859513Z",
     "iopub.status.idle": "2024-04-21T04:20:51.076324Z",
     "shell.execute_reply": "2024-04-21T04:20:51.075551Z",
     "shell.execute_reply.started": "2024-04-21T04:19:46.859773Z"
    }
   },
   "outputs": [
    {
     "name": "stdout",
     "output_type": "stream",
     "text": [
      "=== Forward ===\n",
      "All:\ttensor([0.0471, 0.0429, 0.0430, 0.0503, 0.0506])\n",
      "Mean:\t4.68e-02\n",
      "Std:\t3.75e-03\n",
      "=== Backward ===\n",
      "All:\ttensor([0.0845, 0.0877, 0.0876, 0.0902, 0.0922])\n",
      "Mean:\t8.85e-02\n",
      "Std:\t2.91e-03\n",
      "=== Forward ===\n",
      "All:\ttensor([0.0934, 0.1277, 0.1136, 0.1885, 0.1678])\n",
      "Mean:\t1.38e-01\n",
      "Std:\t3.91e-02\n",
      "=== Backward ===\n",
      "All:\ttensor([0.2971, 0.2273, 0.3268, 0.4993, 0.2448])\n",
      "Mean:\t3.19e-01\n",
      "Std:\t1.08e-01\n",
      "=== Forward ===\n",
      "All:\ttensor([0.3141, 0.3054, 0.2276, 0.3046, 0.3345])\n",
      "Mean:\t2.97e-01\n",
      "Std:\t4.08e-02\n",
      "=== Backward ===\n",
      "All:\ttensor([0.7742, 0.6226, 0.5928, 0.5348, 0.8920])\n",
      "Mean:\t6.83e-01\n",
      "Std:\t1.46e-01\n",
      "=== Forward ===\n",
      "All:\ttensor([0.6531, 0.5390, 0.5627, 0.5668, 0.5579])\n",
      "Mean:\t5.76e-01\n",
      "Std:\t4.44e-02\n",
      "=== Backward ===\n",
      "All:\ttensor([1.1748, 1.1641, 1.1510, 1.1650, 1.1747])\n",
      "Mean:\t1.17e+00\n",
      "Std:\t9.82e-03\n",
      "=== Forward ===\n",
      "All:\ttensor([0.8504, 0.8514, 0.8644, 0.8431, 0.8496])\n",
      "Mean:\t8.52e-01\n",
      "Std:\t7.79e-03\n",
      "=== Backward ===\n",
      "All:\ttensor([1.8213, 1.8172, 1.8168, 1.8217, 1.8125])\n",
      "Mean:\t1.82e+00\n",
      "Std:\t3.74e-03\n"
     ]
    }
   ],
   "source": [
    "out = {}\n",
    "for size, d_model, d_ff, num_layers, num_heads in [\n",
    "    (\"small\", 768, 3072, 12, 12),\n",
    "    (\"medium\", 1024, 4096, 24, 16),\n",
    "    (\"large\", 1280, 5120, 36, 20),\n",
    "    (\"xl\", 1600, 6400, 48, 25),\n",
    "    (\"2.7b\", 2560, 10240, 32, 32),\n",
    "]:\n",
    "    fw_time, bw_time = benchmark.main(\n",
    "        SimpleNamespace(\n",
    "            vocab_size=10_000,\n",
    "            context_length=128,\n",
    "            d_model=d_model,\n",
    "            num_layers=num_layers,\n",
    "            num_heads=num_heads,\n",
    "            d_ff=d_ff,\n",
    "            attn_pdrop=0.0,\n",
    "            residual_pdrop=0.0,\n",
    "            batch_size=16,\n",
    "            warmup_steps=1,\n",
    "            benchmark_steps=5,\n",
    "        )\n",
    "    )\n",
    "    out[size] = fw_time, bw_time"
   ]
  },
  {
   "cell_type": "code",
   "execution_count": 18,
   "id": "3aa210e2-5cdf-49fe-b753-167601c3580e",
   "metadata": {
    "execution": {
     "iopub.execute_input": "2024-04-21T04:33:37.575551Z",
     "iopub.status.busy": "2024-04-21T04:33:37.575170Z",
     "iopub.status.idle": "2024-04-21T04:33:37.597962Z",
     "shell.execute_reply": "2024-04-21T04:33:37.597508Z",
     "shell.execute_reply.started": "2024-04-21T04:33:37.575532Z"
    }
   },
   "outputs": [
    {
     "data": {
      "text/html": [
       "<div>\n",
       "<style scoped>\n",
       "    .dataframe tbody tr th:only-of-type {\n",
       "        vertical-align: middle;\n",
       "    }\n",
       "\n",
       "    .dataframe tbody tr th {\n",
       "        vertical-align: top;\n",
       "    }\n",
       "\n",
       "    .dataframe thead th {\n",
       "        text-align: right;\n",
       "    }\n",
       "</style>\n",
       "<table border=\"1\" class=\"dataframe\">\n",
       "  <thead>\n",
       "    <tr style=\"text-align: right;\">\n",
       "      <th></th>\n",
       "      <th>size</th>\n",
       "      <th>pass</th>\n",
       "      <th>time</th>\n",
       "    </tr>\n",
       "  </thead>\n",
       "  <tbody>\n",
       "    <tr>\n",
       "      <th>0</th>\n",
       "      <td>small</td>\n",
       "      <td>forward</td>\n",
       "      <td>0.046799</td>\n",
       "    </tr>\n",
       "    <tr>\n",
       "      <th>1</th>\n",
       "      <td>small</td>\n",
       "      <td>backward</td>\n",
       "      <td>0.088455</td>\n",
       "    </tr>\n",
       "    <tr>\n",
       "      <th>2</th>\n",
       "      <td>medium</td>\n",
       "      <td>forward</td>\n",
       "      <td>0.138213</td>\n",
       "    </tr>\n",
       "    <tr>\n",
       "      <th>3</th>\n",
       "      <td>medium</td>\n",
       "      <td>backward</td>\n",
       "      <td>0.319056</td>\n",
       "    </tr>\n",
       "    <tr>\n",
       "      <th>4</th>\n",
       "      <td>large</td>\n",
       "      <td>forward</td>\n",
       "      <td>0.297237</td>\n",
       "    </tr>\n",
       "    <tr>\n",
       "      <th>5</th>\n",
       "      <td>large</td>\n",
       "      <td>backward</td>\n",
       "      <td>0.683260</td>\n",
       "    </tr>\n",
       "    <tr>\n",
       "      <th>6</th>\n",
       "      <td>xl</td>\n",
       "      <td>forward</td>\n",
       "      <td>0.575887</td>\n",
       "    </tr>\n",
       "    <tr>\n",
       "      <th>7</th>\n",
       "      <td>xl</td>\n",
       "      <td>backward</td>\n",
       "      <td>1.165931</td>\n",
       "    </tr>\n",
       "    <tr>\n",
       "      <th>8</th>\n",
       "      <td>2.7b</td>\n",
       "      <td>forward</td>\n",
       "      <td>0.851775</td>\n",
       "    </tr>\n",
       "    <tr>\n",
       "      <th>9</th>\n",
       "      <td>2.7b</td>\n",
       "      <td>backward</td>\n",
       "      <td>1.817886</td>\n",
       "    </tr>\n",
       "  </tbody>\n",
       "</table>\n",
       "</div>"
      ],
      "text/plain": [
       "     size      pass      time\n",
       "0   small   forward  0.046799\n",
       "1   small  backward  0.088455\n",
       "2  medium   forward  0.138213\n",
       "3  medium  backward  0.319056\n",
       "4   large   forward  0.297237\n",
       "5   large  backward  0.683260\n",
       "6      xl   forward  0.575887\n",
       "7      xl  backward  1.165931\n",
       "8    2.7b   forward  0.851775\n",
       "9    2.7b  backward  1.817886"
      ]
     },
     "execution_count": 18,
     "metadata": {},
     "output_type": "execute_result"
    }
   ],
   "source": [
    "df = []\n",
    "for size, (fw_time, bw_time) in out.items():\n",
    "    df.append({\"size\": size, \"pass\": \"forward\", \"time\": fw_time.mean().item()})\n",
    "    df.append({\"size\": size, \"pass\": \"backward\", \"time\": bw_time.mean().item()})\n",
    "df = pd.DataFrame(df)\n",
    "df"
   ]
  },
  {
   "cell_type": "code",
   "execution_count": 19,
   "id": "50cf65ee-0b00-43e4-b0e4-00fe96cac534",
   "metadata": {
    "execution": {
     "iopub.execute_input": "2024-04-21T04:34:06.674003Z",
     "iopub.status.busy": "2024-04-21T04:34:06.673741Z",
     "iopub.status.idle": "2024-04-21T04:34:06.831712Z",
     "shell.execute_reply": "2024-04-21T04:34:06.830925Z",
     "shell.execute_reply.started": "2024-04-21T04:34:06.673985Z"
    }
   },
   "outputs": [
    {
     "data": {
      "image/png": "[encoded data removed]",
      "text/plain": [
       "<Figure size 640x480 with 1 Axes>"
      ]
     },
     "metadata": {},
     "output_type": "display_data"
    }
   ],
   "source": [
    "# TODO: add error bar\n",
    "fig, ax = plt.subplots()\n",
    "sns.barplot(ax=ax, data=df, x=\"size\", y=\"time\", hue=\"pass\")\n",
    "fig.show()"
   ]
  },
  {
   "cell_type": "code",
   "execution_count": null,
   "id": "d4f55a28-29f4-47fa-9735-443f83dade70",
   "metadata": {},
   "outputs": [],
   "source": []
  }
 ],
 "metadata": {
  "kernelspec": {
   "display_name": "Python [conda env:cs336]",
   "language": "python",
   "name": "conda-env-cs336-py"
  },
  "language_info": {
   "codemirror_mode": {
    "name": "ipython",
    "version": 3
   },
   "file_extension": ".py",
   "mimetype": "text/x-python",
   "name": "python",
   "nbconvert_exporter": "python",
   "pygments_lexer": "ipython3",
   "version": "3.10.14"
  }
 },
 "nbformat": 4,
 "nbformat_minor": 5
}
